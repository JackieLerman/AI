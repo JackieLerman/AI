{
 "cells": [
  {
   "cell_type": "code",
   "execution_count": 19,
   "metadata": {},
   "outputs": [
    {
     "name": "stdout",
     "output_type": "stream",
     "text": [
      "Low 399 Seven 160 High 441\n"
     ]
    }
   ],
   "source": [
    "# In the game of high-low, a pair of fair dice are rolled. The outcome is\n",
    "\n",
    "# high if the sum is 8, 9, 10, 11, or 12.\n",
    "# low if the sum is 2, 3, 4, 5, or 6\n",
    "# seven if the sum is 7\n",
    "\n",
    "# Add a Dice class that has a constructor which allows the user to\n",
    "# create any number of dice.  The Dice class has a roll function that\n",
    "# rolls each die and returns the sum of their upward-facing pips.\n",
    "\n",
    "# Write a main function that simulates 1000 rolls of two dice using\n",
    "# your Dice class.  Determine and print the frequency of high, low,\n",
    "# and seven.\n",
    "\n",
    "import random\n",
    "\n",
    "class Die(object):\n",
    "    def __init__(self,num=6):\n",
    "        \n",
    "            self.pips = num\n",
    "\n",
    "    def getPips(self):\n",
    "        return self.pips\n",
    "\n",
    "    def roll(self):\n",
    "        '''roll once, return rnum in {1,...,6}.'''\n",
    "        self.pips = random.randint(1,6)\n",
    "        return self.pips\n",
    "\n",
    "# Model a bunch of dice.\n",
    "class Dice(object):\n",
    "    def __init__(self,num):\n",
    "        self.num = num\n",
    "        self.dice = [ ]\n",
    "        for i in range(num):\n",
    "            self.dice.append( Die() )\n",
    "\n",
    "    def roll(self):\n",
    "        sum = 0\n",
    "        for i in range(len(self.dice)):\n",
    "            sum += self.dice[i].roll()\n",
    "        return sum\n",
    "\n",
    "def main():\n",
    "    dice = Dice(2)\n",
    "    numHi,numLow,num7 = 0,0,0\n",
    "\n",
    "    for i in range(1000):\n",
    "        value = dice.roll()\n",
    "        if value == 7:\n",
    "            num7 += 1\n",
    "        elif value >= 2 and value <= 6:\n",
    "            numLow += 1\n",
    "        else:\n",
    "            numHi += 1\n",
    "\n",
    "    print('Low %d Seven %d High %d' % (numLow,num7,numHi))\n",
    "\n",
    "\n",
    "# If dice.py is called as a standalone program, run main.\n",
    "if __name__ == '__main__':\n",
    "    main()"
   ]
  },
  {
   "cell_type": "code",
   "execution_count": null,
   "metadata": {},
   "outputs": [],
   "source": []
  },
  {
   "cell_type": "code",
   "execution_count": null,
   "metadata": {},
   "outputs": [],
   "source": []
  },
  {
   "cell_type": "code",
   "execution_count": null,
   "metadata": {},
   "outputs": [],
   "source": []
  }
 ],
 "metadata": {
  "kernelspec": {
   "display_name": "Python 3",
   "language": "python",
   "name": "python3"
  },
  "language_info": {
   "codemirror_mode": {
    "name": "ipython",
    "version": 3
   },
   "file_extension": ".py",
   "mimetype": "text/x-python",
   "name": "python",
   "nbconvert_exporter": "python",
   "pygments_lexer": "ipython3",
   "version": "3.7.4"
  }
 },
 "nbformat": 4,
 "nbformat_minor": 2
}
